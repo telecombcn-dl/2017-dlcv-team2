{
 "cells": [
  {
   "cell_type": "markdown",
   "metadata": {},
   "source": [
    "In this notebook you can test !!!NUMBER!!! different styles that are already trained in our network with the following picture\n",
    "<img src=\"AT3_223.jpg\" width=\"350\" height=\"198\">\n",
    "STYLE 1:\n",
    "<img src=\"examples/style/squ.jpg\" width=\"100\" height=\"100\">"
   ]
  },
  {
   "cell_type": "code",
   "execution_count": 40,
   "metadata": {
    "collapsed": false
   },
   "outputs": [
    {
     "name": "stdout",
     "output_type": "stream",
     "text": [
      "I tensorflow/stream_executor/dso_loader.cc:135] successfully opened CUDA library libcublas.so.8.0 locally\n",
      "I tensorflow/stream_executor/dso_loader.cc:135] successfully opened CUDA library libcudnn.so.5 locally\n",
      "I tensorflow/stream_executor/dso_loader.cc:135] successfully opened CUDA library libcufft.so.8.0 locally\n",
      "I tensorflow/stream_executor/dso_loader.cc:135] successfully opened CUDA library libcuda.so.1 locally\n",
      "I tensorflow/stream_executor/dso_loader.cc:135] successfully opened CUDA library libcurand.so.8.0 locally\n",
      "W tensorflow/core/platform/cpu_feature_guard.cc:45] The TensorFlow library wasn't compiled to use SSE3 instructions, but these are available on your machine and could speed up CPU computations.\n",
      "W tensorflow/core/platform/cpu_feature_guard.cc:45] The TensorFlow library wasn't compiled to use SSE4.1 instructions, but these are available on your machine and could speed up CPU computations.\n",
      "W tensorflow/core/platform/cpu_feature_guard.cc:45] The TensorFlow library wasn't compiled to use SSE4.2 instructions, but these are available on your machine and could speed up CPU computations.\n",
      "W tensorflow/core/platform/cpu_feature_guard.cc:45] The TensorFlow library wasn't compiled to use AVX instructions, but these are available on your machine and could speed up CPU computations.\n",
      "E tensorflow/core/common_runtime/direct_session.cc:137] Internal: failed initializing StreamExecutor for CUDA device ordinal 0: Internal: failed call to cuDevicePrimaryCtxRetain: CUDA_ERROR_OUT_OF_MEMORY; total memory reported: 18446744073709551615\n",
      "Traceback (most recent call last):\n",
      "  File \"evaluate.py\", line 266, in <module>\n",
      "    main()\n",
      "  File \"evaluate.py\", line 263, in main\n",
      "    batch_size=opts.batch_size)\n",
      "  File \"evaluate.py\", line 142, in ffwd\n",
      "    tf.Session(config=soft_config) as sess:\n",
      "  File \"/home/dlcv/anaconda2/lib/python2.7/site-packages/tensorflow/python/client/session.py\", line 1187, in __init__\n",
      "    super(Session, self).__init__(target, graph, config=config)\n",
      "  File \"/home/dlcv/anaconda2/lib/python2.7/site-packages/tensorflow/python/client/session.py\", line 552, in __init__\n",
      "    self._session = tf_session.TF_NewDeprecatedSession(opts, status)\n",
      "  File \"/home/dlcv/anaconda2/lib/python2.7/contextlib.py\", line 24, in __exit__\n",
      "    self.gen.next()\n",
      "  File \"/home/dlcv/anaconda2/lib/python2.7/site-packages/tensorflow/python/framework/errors_impl.py\", line 469, in raise_exception_on_not_ok_status\n",
      "    pywrap_tensorflow.TF_GetCode(status))\n",
      "tensorflow.python.framework.errors_impl.InternalError: Failed to create session.\n"
     ]
    }
   ],
   "source": [
    "!python evaluate.py --checkpoint ~/work/style-saveimg/squ15.ckpt --in-path ~/work/test/squ15/test --out-path ~/work/style-saveimg"
   ]
  },
  {
   "cell_type": "code",
   "execution_count": 37,
   "metadata": {
    "collapsed": false
   },
   "outputs": [
    {
     "data": {
      "text/plain": [
       "<matplotlib.image.AxesImage at 0x7f6e3d782110>"
      ]
     },
     "execution_count": 37,
     "metadata": {},
     "output_type": "execute_result"
    }
   ],
   "source": [
    "%matplotlib notebook\n",
    "import matplotlib.image as mpimg\n",
    "import matplotlib.pyplot as plt\n",
    "img=mpimg.imread(\"AT3_223.jpg\")\n",
    "plt.imshow(img)"
   ]
  },
  {
   "cell_type": "markdown",
   "metadata": {},
   "source": [
    "STYLE 2:\n",
    "<img src=\"examples/style/psy.jpg\" width=\"100\" height=\"100\">"
   ]
  },
  {
   "cell_type": "code",
   "execution_count": 39,
   "metadata": {
    "collapsed": false
   },
   "outputs": [
    {
     "name": "stdout",
     "output_type": "stream",
     "text": [
      "I tensorflow/stream_executor/dso_loader.cc:135] successfully opened CUDA library libcublas.so.8.0 locally\n",
      "I tensorflow/stream_executor/dso_loader.cc:135] successfully opened CUDA library libcudnn.so.5 locally\n",
      "I tensorflow/stream_executor/dso_loader.cc:135] successfully opened CUDA library libcufft.so.8.0 locally\n",
      "I tensorflow/stream_executor/dso_loader.cc:135] successfully opened CUDA library libcuda.so.1 locally\n",
      "I tensorflow/stream_executor/dso_loader.cc:135] successfully opened CUDA library libcurand.so.8.0 locally\n",
      "W tensorflow/core/platform/cpu_feature_guard.cc:45] The TensorFlow library wasn't compiled to use SSE3 instructions, but these are available on your machine and could speed up CPU computations.\n",
      "W tensorflow/core/platform/cpu_feature_guard.cc:45] The TensorFlow library wasn't compiled to use SSE4.1 instructions, but these are available on your machine and could speed up CPU computations.\n",
      "W tensorflow/core/platform/cpu_feature_guard.cc:45] The TensorFlow library wasn't compiled to use SSE4.2 instructions, but these are available on your machine and could speed up CPU computations.\n",
      "W tensorflow/core/platform/cpu_feature_guard.cc:45] The TensorFlow library wasn't compiled to use AVX instructions, but these are available on your machine and could speed up CPU computations.\n",
      "E tensorflow/core/common_runtime/direct_session.cc:137] Internal: failed initializing StreamExecutor for CUDA device ordinal 0: Internal: failed call to cuDevicePrimaryCtxRetain: CUDA_ERROR_OUT_OF_MEMORY; total memory reported: 18446744073709551615\n",
      "Traceback (most recent call last):\n",
      "  File \"evaluate.py\", line 266, in <module>\n",
      "    main()\n",
      "  File \"evaluate.py\", line 263, in main\n",
      "    batch_size=opts.batch_size)\n",
      "  File \"evaluate.py\", line 142, in ffwd\n",
      "    tf.Session(config=soft_config) as sess:\n",
      "  File \"/home/dlcv/anaconda2/lib/python2.7/site-packages/tensorflow/python/client/session.py\", line 1187, in __init__\n",
      "    super(Session, self).__init__(target, graph, config=config)\n",
      "  File \"/home/dlcv/anaconda2/lib/python2.7/site-packages/tensorflow/python/client/session.py\", line 552, in __init__\n",
      "    self._session = tf_session.TF_NewDeprecatedSession(opts, status)\n",
      "  File \"/home/dlcv/anaconda2/lib/python2.7/contextlib.py\", line 24, in __exit__\n",
      "    self.gen.next()\n",
      "  File \"/home/dlcv/anaconda2/lib/python2.7/site-packages/tensorflow/python/framework/errors_impl.py\", line 469, in raise_exception_on_not_ok_status\n",
      "    pywrap_tensorflow.TF_GetCode(status))\n",
      "tensorflow.python.framework.errors_impl.InternalError: Failed to create session.\n"
     ]
    }
   ],
   "source": [
    "!python evaluate.py --checkpoint ~/work/style-saveimg/psy2.ckpt --in-path ~/work/test/psy2/test --out-path ~/work/style-saveimg\n"
   ]
  },
  {
   "cell_type": "code",
   "execution_count": null,
   "metadata": {
    "collapsed": true
   },
   "outputs": [],
   "source": [
    "%matplotlib notebook\n",
    "import matplotlib.image as mpimg\n",
    "import matplotlib.pyplot as plt\n",
    "img=mpimg.imread(\"AT3_223.jpg\")\n",
    "plt.imshow(img)"
   ]
  },
  {
   "cell_type": "markdown",
   "metadata": {},
   "source": [
    "STYLE 3:\n",
    "<img src=\"examples/style/mandala.jpg\" width=\"100\" height=\"100\">"
   ]
  },
  {
   "cell_type": "code",
   "execution_count": null,
   "metadata": {
    "collapsed": true
   },
   "outputs": [],
   "source": [
    "!python evaluate.py --checkpoint ~/work/style-saveimg/mandala.ckpt --in-path ~/work/test/mandala2/test --out-path ~/work/test/style-saveimg\n",
    "%matplotlib notebook\n",
    "import matplotlib.image as mpimg\n",
    "import matplotlib.pyplot as plt\n",
    "img=mpimg.imread(\"AT3_223.jpg\")\n",
    "plt.imshow(img)"
   ]
  }
 ],
 "metadata": {
  "kernelspec": {
   "display_name": "Python 2",
   "language": "python",
   "name": "python2"
  },
  "language_info": {
   "codemirror_mode": {
    "name": "ipython",
    "version": 2
   },
   "file_extension": ".py",
   "mimetype": "text/x-python",
   "name": "python",
   "nbconvert_exporter": "python",
   "pygments_lexer": "ipython2",
   "version": "2.7.13"
  }
 },
 "nbformat": 4,
 "nbformat_minor": 0
}
